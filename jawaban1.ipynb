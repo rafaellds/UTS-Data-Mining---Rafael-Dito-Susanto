{
 "cells": [
  {
   "cell_type": "code",
   "execution_count": 1,
   "id": "5efe3d9c-7e12-4b3b-a7ef-6a79fbabd9e2",
   "metadata": {},
   "outputs": [],
   "source": [
    "# data\n",
    "\n",
    "company_name_list = [{'name': 'Company 1'},\n",
    "          {'name': 'Company 2'},\n",
    "          {'name': 'Company 3'}]\n",
    "\n",
    "employee_name_list = [{'name': 'John Doe'},\n",
    "          {'name': 'Tom Smith'},\n",
    "          {'name': 'Andrew Sebastian'}]\n",
    "\n",
    "company_detail_list = {\n",
    "      'Company 1': {\n",
    "          'name': 'Company 1',\n",
    "          'domain': 'Retail',\n",
    "          'clients': [\n",
    "              {\n",
    "                  'name': 'acme.inc',\n",
    "                  'country': 'united states'\n",
    "              },\n",
    "              {\n",
    "                  'name': 'Wayne.co',\n",
    "                  'country': 'united states'\n",
    "              }\n",
    "          ]\n",
    "      },\n",
    "      'Company 2': {\n",
    "          'name': 'Company 2',\n",
    "          'domain': 'Construction',\n",
    "          'clients': [\n",
    "              {\n",
    "                  'name': 'Tesla',\n",
    "                  'country': 'united states'\n",
    "              },\n",
    "              {\n",
    "                  'name': 'Japan Airlines',\n",
    "                  'country': 'japan'\n",
    "              },\n",
    "              {\n",
    "                  'name': 'Indofood',\n",
    "                  'country': 'indonesia'\n",
    "              }\n",
    "          ]\n",
    "      },\n",
    "      'Company 3': {\n",
    "          'name': 'Company 3',\n",
    "          'domain': 'Healthcare',\n",
    "          'clients': [\n",
    "              {\n",
    "                  'name': 'Petronas',\n",
    "                  'country': 'malaysia'\n",
    "              },\n",
    "              {\n",
    "                  'name': 'VW Group',\n",
    "                  'country': 'germany'\n",
    "              },\n",
    "              {\n",
    "                  'name': 'IBM',\n",
    "                  'country': 'united states'\n",
    "              },\n",
    "              {\n",
    "                  'name': 'Mitsubishi',\n",
    "                  'country': 'japan'\n",
    "              }\n",
    "          ]\n",
    "      }\n",
    "  }\n",
    "\n",
    "employee_detail_list = {\n",
    "      'John Doe': {\n",
    "          'name': 'EMP-0001',\n",
    "          'first_name': 'John',\n",
    "          'last_name': 'Doe',\n",
    "          'full_name': 'John Doe',\n",
    "          'company': 'Company 1'\n",
    "      },\n",
    "      'Tom Smith': {\n",
    "          'name': 'EMP-0002',\n",
    "          'first_name': 'Tom',\n",
    "          'last_name': 'Smith',\n",
    "          'full_name': 'Tom Smith',\n",
    "          'company': 'Company 2'\n",
    "      },\n",
    "      'Andrew Sebastian': {\n",
    "          'name': 'EMP-0003',\n",
    "          'first_name': 'Andrew',\n",
    "          'last_name': 'Sebastian',\n",
    "          'full_name': 'Andrew Sebastian',\n",
    "          'company': 'Company 2'\n",
    "      },\n",
    "  }"
   ]
  },
  {
   "cell_type": "code",
   "execution_count": 4,
   "id": "4625c714-ee59-4d82-be60-074c8ed8fdad",
   "metadata": {},
   "outputs": [
    {
     "name": "stdout",
     "output_type": "stream",
     "text": [
      "[('John Doe', 'Retail'), ('Tom Smith', 'Construction'), ('Andrew Sebastian', 'Construction')]\n"
     ]
    }
   ],
   "source": [
    "employee_domain = [(employee['name'], company_detail_list[employee_detail_list[employee['name']]['company']]['domain']) for employee in employee_name_list]\n",
    "print(employee_domain)"
   ]
  },
  {
   "cell_type": "code",
   "execution_count": 5,
   "id": "ee127a59-9b57-4331-9f38-c709207f3577",
   "metadata": {},
   "outputs": [
    {
     "name": "stdout",
     "output_type": "stream",
     "text": [
      "['Tesla', 'Japan Airlines', 'Indofood']\n"
     ]
    }
   ],
   "source": [
    "andrew_company_name = employee_detail_list['Andrew Sebastian']['company']\n",
    "andrew_company_clients = [client['name'] for client in company_detail_list[andrew_company_name]['clients']]\n",
    "print(andrew_company_clients)"
   ]
  },
  {
   "cell_type": "code",
   "execution_count": 6,
   "id": "1c5fe16d-829a-4368-baf6-5756af2a8fd2",
   "metadata": {},
   "outputs": [
    {
     "name": "stdout",
     "output_type": "stream",
     "text": [
      "[]\n"
     ]
    }
   ],
   "source": [
    "healthcare_employees = [employee['name'] for employee in employee_name_list if employee_detail_list[employee['name']]['company'] == 'Company 3']\n",
    "print(healthcare_employees)"
   ]
  },
  {
   "cell_type": "code",
   "execution_count": 7,
   "id": "a397a93e-b400-48b0-a9b3-c14f1665cafd",
   "metadata": {},
   "outputs": [
    {
     "name": "stdout",
     "output_type": "stream",
     "text": [
      "[]\n"
     ]
    }
   ],
   "source": [
    "healthcare_employees = [employee['name'] for employee in employee_name_list if employee_detail_list[employee['name']]['company'] == 'Company 3']\n",
    "print(healthcare_employees)"
   ]
  },
  {
   "cell_type": "code",
   "execution_count": 8,
   "id": "1d0a97c9-ab58-43f1-9cd1-0448671969e2",
   "metadata": {},
   "outputs": [
    {
     "name": "stdout",
     "output_type": "stream",
     "text": [
      "['acme.inc', 'Wayne.co', 'Tesla', 'Japan Airlines', 'Indofood', 'Petronas', 'VW Group', 'IBM', 'Mitsubishi']\n"
     ]
    }
   ],
   "source": [
    "all_clients = [client['name'] for company in company_detail_list.values() for client in company['clients']]\n",
    "print(all_clients)"
   ]
  },
  {
   "cell_type": "code",
   "execution_count": 9,
   "id": "7cc92bfa-4873-4755-971a-30b3079f10d0",
   "metadata": {},
   "outputs": [],
   "source": [
    "all_companies = [{'name': company['name'], 'domain': company['domain']} for company in company_detail_list.values()]"
   ]
  },
  {
   "cell_type": "code",
   "execution_count": 10,
   "id": "e45ce97c-053d-4a06-980d-d9ef1fd43e36",
   "metadata": {},
   "outputs": [],
   "source": [
    "sorted_companies = sorted(all_companies, key=lambda x: x['domain'], reverse=True)"
   ]
  },
  {
   "cell_type": "code",
   "execution_count": 11,
   "id": "cffad646-febc-428e-a230-3ba44d894424",
   "metadata": {},
   "outputs": [
    {
     "name": "stdout",
     "output_type": "stream",
     "text": [
      "[{'name': 'Company 1', 'domain': 'Retail'}, {'name': 'Company 3', 'domain': 'Healthcare'}, {'name': 'Company 2', 'domain': 'Construction'}]\n"
     ]
    }
   ],
   "source": [
    "print(sorted_companies)"
   ]
  },
  {
   "cell_type": "code",
   "execution_count": 12,
   "id": "6b8dcf5a-91c8-4f60-8a5d-1aecff5304f6",
   "metadata": {},
   "outputs": [],
   "source": [
    "def sort_company():\n",
    "    # Mendapatkan daftar semua perusahaan\n",
    "    all_companies = [{'name': company['name'], 'domain': company['domain']} for company in company_detail_list.values()]\n",
    "    \n",
    "    # Mengurutkan daftar perusahaan berdasarkan domain dalam urutan terbalik\n",
    "    sorted_companies = sorted(all_companies, key=lambda x: x['domain'], reverse=True)\n",
    "    \n",
    "    return sorted_companies"
   ]
  },
  {
   "cell_type": "code",
   "execution_count": 13,
   "id": "41990628-66cb-4c12-8306-85977b730622",
   "metadata": {},
   "outputs": [
    {
     "name": "stdout",
     "output_type": "stream",
     "text": [
      "[{'name': 'Company 1', 'domain': 'Retail'}, {'name': 'Company 3', 'domain': 'Healthcare'}, {'name': 'Company 2', 'domain': 'Construction'}]\n"
     ]
    }
   ],
   "source": [
    "print(sort_company())"
   ]
  },
  {
   "cell_type": "code",
   "execution_count": 14,
   "id": "53d7f6fa-4e0d-4fbe-ba41-ff7165846698",
   "metadata": {},
   "outputs": [],
   "source": [
    "def get_company_domain():\n",
    "    for company_name, company_info in company_detail_list.items():\n",
    "        domain = company_info['domain']\n",
    "        num_clients = len(company_info['clients'])\n",
    "        print(f\"{company_name}: {domain}, relation: {num_clients} clients\")"
   ]
  },
  {
   "cell_type": "code",
   "execution_count": 15,
   "id": "6e9eb719-6297-4b2c-a4b1-8015795a7a77",
   "metadata": {},
   "outputs": [
    {
     "name": "stdout",
     "output_type": "stream",
     "text": [
      "Company 1: Retail, relation: 2 clients\n",
      "Company 2: Construction, relation: 3 clients\n",
      "Company 3: Healthcare, relation: 4 clients\n"
     ]
    }
   ],
   "source": [
    "get_company_domain()"
   ]
  },
  {
   "cell_type": "code",
   "execution_count": 16,
   "id": "e3cdd767-ef9a-4897-b128-c8a438b07e32",
   "metadata": {},
   "outputs": [],
   "source": [
    "def get_employees():\n",
    "    employees_with_domain = []\n",
    "    for employee_name, employee_info in employee_detail_list.items():\n",
    "        full_name = employee_info['full_name']\n",
    "        company_name = employee_info['company']\n",
    "        domain = company_detail_list[company_name]['domain']\n",
    "        employees_with_domain.append({\n",
    "            'full_name': full_name,\n",
    "            'company': company_name,\n",
    "            'domain': domain\n",
    "        })\n",
    "    return employees_with_domain"
   ]
  },
  {
   "cell_type": "code",
   "execution_count": 17,
   "id": "f396ae6f-37ee-4448-aa74-8b5ac96b5dba",
   "metadata": {},
   "outputs": [
    {
     "name": "stdout",
     "output_type": "stream",
     "text": [
      "[{'full_name': 'John Doe', 'company': 'Company 1', 'domain': 'Retail'}, {'full_name': 'Tom Smith', 'company': 'Company 2', 'domain': 'Construction'}, {'full_name': 'Andrew Sebastian', 'company': 'Company 2', 'domain': 'Construction'}]\n"
     ]
    }
   ],
   "source": [
    "print(get_employees())"
   ]
  },
  {
   "cell_type": "code",
   "execution_count": 18,
   "id": "83af6c15-754f-4343-b1da-07f9cb83a3c0",
   "metadata": {},
   "outputs": [],
   "source": [
    "def get_employees_by_company():\n",
    "    companies_with_employees = []\n",
    "    for company_name in company_detail_list.keys():\n",
    "        employees_in_company = [employee_info['full_name'] for employee_info in employee_detail_list.values() if employee_info['company'] == company_name]\n",
    "        companies_with_employees.append({\n",
    "            'company': company_name,\n",
    "            'employees': employees_in_company\n",
    "        })\n",
    "    return companies_with_employees"
   ]
  },
  {
   "cell_type": "code",
   "execution_count": 19,
   "id": "b31213d9-19b4-42c4-a593-94160dbdbebe",
   "metadata": {},
   "outputs": [
    {
     "name": "stdout",
     "output_type": "stream",
     "text": [
      "[{'company': 'Company 1', 'employees': ['John Doe']}, {'company': 'Company 2', 'employees': ['Tom Smith', 'Andrew Sebastian']}, {'company': 'Company 3', 'employees': []}]\n"
     ]
    }
   ],
   "source": [
    "print(get_employees_by_company())"
   ]
  },
  {
   "cell_type": "code",
   "execution_count": null,
   "id": "6753db28-f671-48c9-accf-8e7b0c92340a",
   "metadata": {},
   "outputs": [],
   "source": []
  }
 ],
 "metadata": {
  "kernelspec": {
   "display_name": "Python 3 (ipykernel)",
   "language": "python",
   "name": "python3"
  },
  "language_info": {
   "codemirror_mode": {
    "name": "ipython",
    "version": 3
   },
   "file_extension": ".py",
   "mimetype": "text/x-python",
   "name": "python",
   "nbconvert_exporter": "python",
   "pygments_lexer": "ipython3",
   "version": "3.11.7"
  }
 },
 "nbformat": 4,
 "nbformat_minor": 5
}
